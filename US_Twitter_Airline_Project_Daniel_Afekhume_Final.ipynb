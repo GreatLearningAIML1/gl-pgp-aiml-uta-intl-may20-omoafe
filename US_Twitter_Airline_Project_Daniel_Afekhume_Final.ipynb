{
  "nbformat": 4,
  "nbformat_minor": 0,
  "metadata": {
    "colab": {
      "name": "US_Twitter_Airline_Project_Daniel_Afekhume",
      "provenance": [],
      "collapsed_sections": []
    },
    "kernelspec": {
      "name": "python3",
      "display_name": "Python 3"
    },
    "accelerator": "TPU"
  },
  "cells": [
    {
      "cell_type": "markdown",
      "metadata": {
        "id": "l1rwWW4MYJgh"
      },
      "source": [
        "## Twitter US Airline Sentiment"
      ]
    },
    {
      "cell_type": "markdown",
      "metadata": {
        "id": "OBxFUeqIYSG4"
      },
      "source": [
        "### Description\r\n",
        "A sentiment analysis job about the problems of each major U.S. airline. Twitter data was scraped from February of 2015 and contributors were asked to first classify positive, negative, and neutral tweets, followed by categorizing negative reasons (such as \"late flight\" or \"rude service\")."
      ]
    },
    {
      "cell_type": "markdown",
      "metadata": {
        "id": "5Q9kQWpsYdBw"
      },
      "source": [
        "### Objective\r\n",
        "This analysis predicts if the sentiment expressed by a Twitter post on the Airline is either negative, positive or neutral"
      ]
    },
    {
      "cell_type": "markdown",
      "metadata": {
        "id": "bqLa-7ZAYqqR"
      },
      "source": [
        "#### Data Summary"
      ]
    },
    {
      "cell_type": "code",
      "metadata": {
        "id": "5O6CNyqMYLjH"
      },
      "source": [
        "# Import the necessary libraries, load dataset, print shape of data, data description."
      ],
      "execution_count": 2,
      "outputs": []
    },
    {
      "cell_type": "code",
      "metadata": {
        "colab": {
          "base_uri": "https://localhost:8080/"
        },
        "id": "Mg9d8Xs_Y29w",
        "outputId": "7fe2d62c-e771-4475-ee3d-c90d561d08ce"
      },
      "source": [
        "!pip install contractions"
      ],
      "execution_count": 1,
      "outputs": [
        {
          "output_type": "stream",
          "text": [
            "Collecting contractions\n",
            "  Downloading https://files.pythonhosted.org/packages/ce/ad/d1c685967945a04f8596128b15a1ab56c51488f53312e953341af6ff22d1/contractions-0.0.43-py2.py3-none-any.whl\n",
            "Collecting textsearch\n",
            "  Downloading https://files.pythonhosted.org/packages/42/a8/03407021f9555043de5492a2bd7a35c56cc03c2510092b5ec018cae1bbf1/textsearch-0.0.17-py2.py3-none-any.whl\n",
            "Collecting Unidecode\n",
            "\u001b[?25l  Downloading https://files.pythonhosted.org/packages/d0/42/d9edfed04228bacea2d824904cae367ee9efd05e6cce7ceaaedd0b0ad964/Unidecode-1.1.1-py2.py3-none-any.whl (238kB)\n",
            "\u001b[K     |████████████████████████████████| 245kB 7.1MB/s \n",
            "\u001b[?25hCollecting pyahocorasick\n",
            "\u001b[?25l  Downloading https://files.pythonhosted.org/packages/f4/9f/f0d8e8850e12829eea2e778f1c90e3c53a9a799b7f412082a5d21cd19ae1/pyahocorasick-1.4.0.tar.gz (312kB)\n",
            "\u001b[K     |████████████████████████████████| 317kB 6.9MB/s \n",
            "\u001b[?25hBuilding wheels for collected packages: pyahocorasick\n",
            "  Building wheel for pyahocorasick (setup.py) ... \u001b[?25l\u001b[?25hdone\n",
            "  Created wheel for pyahocorasick: filename=pyahocorasick-1.4.0-cp36-cp36m-linux_x86_64.whl size=81696 sha256=5b1dc596f3478687cfd8a7dfe73dc75dce0b672768a30c5b1fb11a067c2c94a4\n",
            "  Stored in directory: /root/.cache/pip/wheels/0a/90/61/87a55f5b459792fbb2b7ba6b31721b06ff5cf6bde541b40994\n",
            "Successfully built pyahocorasick\n",
            "Installing collected packages: Unidecode, pyahocorasick, textsearch, contractions\n",
            "Successfully installed Unidecode-1.1.1 contractions-0.0.43 pyahocorasick-1.4.0 textsearch-0.0.17\n"
          ],
          "name": "stdout"
        }
      ]
    },
    {
      "cell_type": "code",
      "metadata": {
        "colab": {
          "base_uri": "https://localhost:8080/"
        },
        "id": "g_zU1a0dYvyI",
        "outputId": "c8c60ea3-293e-4580-d3b6-bb7ead2320a7"
      },
      "source": [
        "import re, string, unicodedata                          # Import Regex, string and unicodedata.\r\n",
        "import contractions                                     # Import contractions library.\r\n",
        "from bs4 import BeautifulSoup                           # Import BeautifulSoup.\r\n",
        "\r\n",
        "import numpy as np                                      # Import numpy.\r\n",
        "import pandas as pd                                     # Import pandas.\r\n",
        "import nltk                                             # Import Natural Language Tool-Kit.\r\n",
        "\r\n",
        "nltk.download('stopwords')                              # Download Stopwords.\r\n",
        "nltk.download('punkt')\r\n",
        "nltk.download('wordnet')\r\n",
        "\r\n",
        "from nltk.corpus import stopwords                       # Import stopwords.\r\n",
        "from nltk.tokenize import word_tokenize, sent_tokenize  # Import Tokenizer.\r\n",
        "from nltk.stem.wordnet import WordNetLemmatizer  "
      ],
      "execution_count": 37,
      "outputs": [
        {
          "output_type": "stream",
          "text": [
            "[nltk_data] Downloading package stopwords to /root/nltk_data...\n",
            "[nltk_data]   Package stopwords is already up-to-date!\n",
            "[nltk_data] Downloading package punkt to /root/nltk_data...\n",
            "[nltk_data]   Package punkt is already up-to-date!\n",
            "[nltk_data] Downloading package wordnet to /root/nltk_data...\n",
            "[nltk_data]   Package wordnet is already up-to-date!\n"
          ],
          "name": "stdout"
        }
      ]
    },
    {
      "cell_type": "code",
      "metadata": {
        "colab": {
          "base_uri": "https://localhost:8080/"
        },
        "id": "-3ehD2GaY0Ww",
        "outputId": "e2c6d4ff-5601-446e-d068-aaf3245f2e45"
      },
      "source": [
        "# Mount Google Drive to Collaboratory \r\n",
        "from google.colab import drive\r\n",
        "drive.mount('/content/gdrive')"
      ],
      "execution_count": 38,
      "outputs": [
        {
          "output_type": "stream",
          "text": [
            "Drive already mounted at /content/gdrive; to attempt to forcibly remount, call drive.mount(\"/content/gdrive\", force_remount=True).\n"
          ],
          "name": "stdout"
        }
      ]
    },
    {
      "cell_type": "code",
      "metadata": {
        "id": "DaUtFi2WZagi"
      },
      "source": [
        "# Loading data into pandas dataframe\r\n",
        "tweets_df = pd.read_csv(\"/content/gdrive/MyDrive/Colab_Notebooks/Tweets.csv\")"
      ],
      "execution_count": 39,
      "outputs": []
    },
    {
      "cell_type": "markdown",
      "metadata": {
        "id": "G48J8MDiZ1-o"
      },
      "source": [
        "##### Data Columns"
      ]
    },
    {
      "cell_type": "code",
      "metadata": {
        "id": "iIY77y41Zxi4"
      },
      "source": [
        "# Understand of data-columns: drop non-relevant columns, print shape and print first 5 rows"
      ],
      "execution_count": 40,
      "outputs": []
    },
    {
      "cell_type": "code",
      "metadata": {
        "colab": {
          "base_uri": "https://localhost:8080/"
        },
        "id": "NLnClRzFZ8Lb",
        "outputId": "8394afb5-466f-43cb-98a1-2bec76155f45"
      },
      "source": [
        "# Print the dimensions of the dataset\r\n",
        "tweets_df.shape   "
      ],
      "execution_count": 41,
      "outputs": [
        {
          "output_type": "execute_result",
          "data": {
            "text/plain": [
              "(14640, 15)"
            ]
          },
          "metadata": {
            "tags": []
          },
          "execution_count": 41
        }
      ]
    },
    {
      "cell_type": "code",
      "metadata": {
        "colab": {
          "base_uri": "https://localhost:8080/",
          "height": 633
        },
        "id": "SbKPkjaMaDgJ",
        "outputId": "5b1185fa-48d8-4994-9631-31dfbb06c45a"
      },
      "source": [
        "# Print the first 5 rows of the dataframe\r\n",
        "tweets_df.head()"
      ],
      "execution_count": 42,
      "outputs": [
        {
          "output_type": "execute_result",
          "data": {
            "text/html": [
              "<div>\n",
              "<style scoped>\n",
              "    .dataframe tbody tr th:only-of-type {\n",
              "        vertical-align: middle;\n",
              "    }\n",
              "\n",
              "    .dataframe tbody tr th {\n",
              "        vertical-align: top;\n",
              "    }\n",
              "\n",
              "    .dataframe thead th {\n",
              "        text-align: right;\n",
              "    }\n",
              "</style>\n",
              "<table border=\"1\" class=\"dataframe\">\n",
              "  <thead>\n",
              "    <tr style=\"text-align: right;\">\n",
              "      <th></th>\n",
              "      <th>tweet_id</th>\n",
              "      <th>airline_sentiment</th>\n",
              "      <th>airline_sentiment_confidence</th>\n",
              "      <th>negativereason</th>\n",
              "      <th>negativereason_confidence</th>\n",
              "      <th>airline</th>\n",
              "      <th>airline_sentiment_gold</th>\n",
              "      <th>name</th>\n",
              "      <th>negativereason_gold</th>\n",
              "      <th>retweet_count</th>\n",
              "      <th>text</th>\n",
              "      <th>tweet_coord</th>\n",
              "      <th>tweet_created</th>\n",
              "      <th>tweet_location</th>\n",
              "      <th>user_timezone</th>\n",
              "    </tr>\n",
              "  </thead>\n",
              "  <tbody>\n",
              "    <tr>\n",
              "      <th>0</th>\n",
              "      <td>570306133677760513</td>\n",
              "      <td>neutral</td>\n",
              "      <td>1.0000</td>\n",
              "      <td>NaN</td>\n",
              "      <td>NaN</td>\n",
              "      <td>Virgin America</td>\n",
              "      <td>NaN</td>\n",
              "      <td>cairdin</td>\n",
              "      <td>NaN</td>\n",
              "      <td>0</td>\n",
              "      <td>@VirginAmerica What @dhepburn said.</td>\n",
              "      <td>NaN</td>\n",
              "      <td>2015-02-24 11:35:52 -0800</td>\n",
              "      <td>NaN</td>\n",
              "      <td>Eastern Time (US &amp; Canada)</td>\n",
              "    </tr>\n",
              "    <tr>\n",
              "      <th>1</th>\n",
              "      <td>570301130888122368</td>\n",
              "      <td>positive</td>\n",
              "      <td>0.3486</td>\n",
              "      <td>NaN</td>\n",
              "      <td>0.0000</td>\n",
              "      <td>Virgin America</td>\n",
              "      <td>NaN</td>\n",
              "      <td>jnardino</td>\n",
              "      <td>NaN</td>\n",
              "      <td>0</td>\n",
              "      <td>@VirginAmerica plus you've added commercials to the experience... tacky.</td>\n",
              "      <td>NaN</td>\n",
              "      <td>2015-02-24 11:15:59 -0800</td>\n",
              "      <td>NaN</td>\n",
              "      <td>Pacific Time (US &amp; Canada)</td>\n",
              "    </tr>\n",
              "    <tr>\n",
              "      <th>2</th>\n",
              "      <td>570301083672813571</td>\n",
              "      <td>neutral</td>\n",
              "      <td>0.6837</td>\n",
              "      <td>NaN</td>\n",
              "      <td>NaN</td>\n",
              "      <td>Virgin America</td>\n",
              "      <td>NaN</td>\n",
              "      <td>yvonnalynn</td>\n",
              "      <td>NaN</td>\n",
              "      <td>0</td>\n",
              "      <td>@VirginAmerica I didn't today... Must mean I need to take another trip!</td>\n",
              "      <td>NaN</td>\n",
              "      <td>2015-02-24 11:15:48 -0800</td>\n",
              "      <td>Lets Play</td>\n",
              "      <td>Central Time (US &amp; Canada)</td>\n",
              "    </tr>\n",
              "    <tr>\n",
              "      <th>3</th>\n",
              "      <td>570301031407624196</td>\n",
              "      <td>negative</td>\n",
              "      <td>1.0000</td>\n",
              "      <td>Bad Flight</td>\n",
              "      <td>0.7033</td>\n",
              "      <td>Virgin America</td>\n",
              "      <td>NaN</td>\n",
              "      <td>jnardino</td>\n",
              "      <td>NaN</td>\n",
              "      <td>0</td>\n",
              "      <td>@VirginAmerica it's really aggressive to blast obnoxious \"entertainment\" in your guests' faces &amp;amp; they have little recourse</td>\n",
              "      <td>NaN</td>\n",
              "      <td>2015-02-24 11:15:36 -0800</td>\n",
              "      <td>NaN</td>\n",
              "      <td>Pacific Time (US &amp; Canada)</td>\n",
              "    </tr>\n",
              "    <tr>\n",
              "      <th>4</th>\n",
              "      <td>570300817074462722</td>\n",
              "      <td>negative</td>\n",
              "      <td>1.0000</td>\n",
              "      <td>Can't Tell</td>\n",
              "      <td>1.0000</td>\n",
              "      <td>Virgin America</td>\n",
              "      <td>NaN</td>\n",
              "      <td>jnardino</td>\n",
              "      <td>NaN</td>\n",
              "      <td>0</td>\n",
              "      <td>@VirginAmerica and it's a really big bad thing about it</td>\n",
              "      <td>NaN</td>\n",
              "      <td>2015-02-24 11:14:45 -0800</td>\n",
              "      <td>NaN</td>\n",
              "      <td>Pacific Time (US &amp; Canada)</td>\n",
              "    </tr>\n",
              "  </tbody>\n",
              "</table>\n",
              "</div>"
            ],
            "text/plain": [
              "             tweet_id  ...               user_timezone\n",
              "0  570306133677760513  ...  Eastern Time (US & Canada)\n",
              "1  570301130888122368  ...  Pacific Time (US & Canada)\n",
              "2  570301083672813571  ...  Central Time (US & Canada)\n",
              "3  570301031407624196  ...  Pacific Time (US & Canada)\n",
              "4  570300817074462722  ...  Pacific Time (US & Canada)\n",
              "\n",
              "[5 rows x 15 columns]"
            ]
          },
          "metadata": {
            "tags": []
          },
          "execution_count": 42
        }
      ]
    },
    {
      "cell_type": "code",
      "metadata": {
        "colab": {
          "base_uri": "https://localhost:8080/"
        },
        "id": "jRXAcOOnaNdb",
        "outputId": "32312211-9e95-426f-db18-acc83cb8727c"
      },
      "source": [
        "# print information on dataset\r\n",
        "tweets_df.info()"
      ],
      "execution_count": 43,
      "outputs": [
        {
          "output_type": "stream",
          "text": [
            "<class 'pandas.core.frame.DataFrame'>\n",
            "RangeIndex: 14640 entries, 0 to 14639\n",
            "Data columns (total 15 columns):\n",
            " #   Column                        Non-Null Count  Dtype  \n",
            "---  ------                        --------------  -----  \n",
            " 0   tweet_id                      14640 non-null  int64  \n",
            " 1   airline_sentiment             14640 non-null  object \n",
            " 2   airline_sentiment_confidence  14640 non-null  float64\n",
            " 3   negativereason                9178 non-null   object \n",
            " 4   negativereason_confidence     10522 non-null  float64\n",
            " 5   airline                       14640 non-null  object \n",
            " 6   airline_sentiment_gold        40 non-null     object \n",
            " 7   name                          14640 non-null  object \n",
            " 8   negativereason_gold           32 non-null     object \n",
            " 9   retweet_count                 14640 non-null  int64  \n",
            " 10  text                          14640 non-null  object \n",
            " 11  tweet_coord                   1019 non-null   object \n",
            " 12  tweet_created                 14640 non-null  object \n",
            " 13  tweet_location                9907 non-null   object \n",
            " 14  user_timezone                 9820 non-null   object \n",
            "dtypes: float64(2), int64(2), object(11)\n",
            "memory usage: 1.7+ MB\n"
          ],
          "name": "stdout"
        }
      ]
    },
    {
      "cell_type": "code",
      "metadata": {
        "colab": {
          "base_uri": "https://localhost:8080/"
        },
        "id": "I9u7FRemaYuu",
        "outputId": "fa9b50ef-9578-4ac2-f771-0b2de1fa2c0c"
      },
      "source": [
        "# keep the 'text' and 'airline_sentiment' columns.\r\n",
        "\r\n",
        "tweets = tweets_df.loc[:, ['airline_sentiment', 'text']]\r\n",
        "tweets.shape # shape after dropping of irrelevant columns"
      ],
      "execution_count": 44,
      "outputs": [
        {
          "output_type": "execute_result",
          "data": {
            "text/plain": [
              "(14640, 2)"
            ]
          },
          "metadata": {
            "tags": []
          },
          "execution_count": 44
        }
      ]
    },
    {
      "cell_type": "code",
      "metadata": {
        "colab": {
          "base_uri": "https://localhost:8080/",
          "height": 203
        },
        "id": "QelSUx3HadER",
        "outputId": "3f33d041-fa9a-4a19-f3a3-2b1a80d04601"
      },
      "source": [
        "# Display full dataframe information (Non-turncated Text column.)\r\n",
        "\r\n",
        "pd.set_option('display.max_colwidth', 0) \r\n",
        "tweets.head()      "
      ],
      "execution_count": 45,
      "outputs": [
        {
          "output_type": "execute_result",
          "data": {
            "text/html": [
              "<div>\n",
              "<style scoped>\n",
              "    .dataframe tbody tr th:only-of-type {\n",
              "        vertical-align: middle;\n",
              "    }\n",
              "\n",
              "    .dataframe tbody tr th {\n",
              "        vertical-align: top;\n",
              "    }\n",
              "\n",
              "    .dataframe thead th {\n",
              "        text-align: right;\n",
              "    }\n",
              "</style>\n",
              "<table border=\"1\" class=\"dataframe\">\n",
              "  <thead>\n",
              "    <tr style=\"text-align: right;\">\n",
              "      <th></th>\n",
              "      <th>airline_sentiment</th>\n",
              "      <th>text</th>\n",
              "    </tr>\n",
              "  </thead>\n",
              "  <tbody>\n",
              "    <tr>\n",
              "      <th>0</th>\n",
              "      <td>neutral</td>\n",
              "      <td>@VirginAmerica What @dhepburn said.</td>\n",
              "    </tr>\n",
              "    <tr>\n",
              "      <th>1</th>\n",
              "      <td>positive</td>\n",
              "      <td>@VirginAmerica plus you've added commercials to the experience... tacky.</td>\n",
              "    </tr>\n",
              "    <tr>\n",
              "      <th>2</th>\n",
              "      <td>neutral</td>\n",
              "      <td>@VirginAmerica I didn't today... Must mean I need to take another trip!</td>\n",
              "    </tr>\n",
              "    <tr>\n",
              "      <th>3</th>\n",
              "      <td>negative</td>\n",
              "      <td>@VirginAmerica it's really aggressive to blast obnoxious \"entertainment\" in your guests' faces &amp;amp; they have little recourse</td>\n",
              "    </tr>\n",
              "    <tr>\n",
              "      <th>4</th>\n",
              "      <td>negative</td>\n",
              "      <td>@VirginAmerica and it's a really big bad thing about it</td>\n",
              "    </tr>\n",
              "  </tbody>\n",
              "</table>\n",
              "</div>"
            ],
            "text/plain": [
              "  airline_sentiment                                                                                                                            text\n",
              "0  neutral           @VirginAmerica What @dhepburn said.                                                                                           \n",
              "1  positive          @VirginAmerica plus you've added commercials to the experience... tacky.                                                      \n",
              "2  neutral           @VirginAmerica I didn't today... Must mean I need to take another trip!                                                       \n",
              "3  negative          @VirginAmerica it's really aggressive to blast obnoxious \"entertainment\" in your guests' faces &amp; they have little recourse\n",
              "4  negative          @VirginAmerica and it's a really big bad thing about it                                                                       "
            ]
          },
          "metadata": {
            "tags": []
          },
          "execution_count": 45
        }
      ]
    },
    {
      "cell_type": "code",
      "metadata": {
        "colab": {
          "base_uri": "https://localhost:8080/"
        },
        "id": "fGwgf9weais5",
        "outputId": "bcbf73af-b710-4173-d941-add3176c4221"
      },
      "source": [
        "# check for null values within the data\r\n",
        "\r\n",
        "tweets.isnull().sum(axis=0)"
      ],
      "execution_count": 46,
      "outputs": [
        {
          "output_type": "execute_result",
          "data": {
            "text/plain": [
              "airline_sentiment    0\n",
              "text                 0\n",
              "dtype: int64"
            ]
          },
          "metadata": {
            "tags": []
          },
          "execution_count": 46
        }
      ]
    },
    {
      "cell_type": "code",
      "metadata": {
        "colab": {
          "base_uri": "https://localhost:8080/"
        },
        "id": "zimFAB10bHl3",
        "outputId": "fbd02c71-5e8f-4e04-e0f2-64ee0d5620cd"
      },
      "source": [
        "# check the unique values in the label column\r\n",
        "tweets['airline_sentiment'].unique()"
      ],
      "execution_count": 47,
      "outputs": [
        {
          "output_type": "execute_result",
          "data": {
            "text/plain": [
              "array(['neutral', 'positive', 'negative'], dtype=object)"
            ]
          },
          "metadata": {
            "tags": []
          },
          "execution_count": 47
        }
      ]
    },
    {
      "cell_type": "code",
      "metadata": {
        "colab": {
          "base_uri": "https://localhost:8080/"
        },
        "id": "JPADag4O3BGU",
        "outputId": "211b8f89-de23-4f8b-ad99-90c06a96fe71"
      },
      "source": [
        "#repalcing the categorical values of 'airline_sentiment' to numeric values\r\n",
        "#tweets['airline_sentiment'].replace(('neutral', 'positive', 'negative'), (0, 1, 2), inplace=True)\r\n",
        "tweets['airline_sentiment'].value_counts()"
      ],
      "execution_count": 48,
      "outputs": [
        {
          "output_type": "execute_result",
          "data": {
            "text/plain": [
              "negative    9178\n",
              "neutral     3099\n",
              "positive    2363\n",
              "Name: airline_sentiment, dtype: int64"
            ]
          },
          "metadata": {
            "tags": []
          },
          "execution_count": 48
        }
      ]
    },
    {
      "cell_type": "code",
      "metadata": {
        "colab": {
          "base_uri": "https://localhost:8080/"
        },
        "id": "45w5fKgobQPw",
        "outputId": "9c34a91a-9855-4874-b2c3-e615cbdb6612"
      },
      "source": [
        "# extract the label variable from dataset and convert into categorical datatype\r\n",
        "\r\n",
        "#label = tweets['airline_sentiment']\r\n",
        "#label = tweets.astype('category')\r\n",
        "#print(label)"
      ],
      "execution_count": 32,
      "outputs": [
        {
          "output_type": "stream",
          "text": [
            "      airline_sentiment                                                                                                   text\n",
            "0      neutral           virginamerica dhepburn say                                                                           \n",
            "1      positive          virginamerica plus add commercials experience tacky                                                  \n",
            "2      neutral           virginamerica not today must mean need take another trip                                             \n",
            "3      negative          virginamerica really aggressive blast obnoxious entertainment guests face little recourse            \n",
            "4      negative          virginamerica really big bad thing                                                                   \n",
            "...         ...                                         ...                                                                   \n",
            "14635  positive          americanair thank get different flight chicago                                                       \n",
            "14636  negative          americanair leave minutes late flight warn communication minutes late flight call shitty customer svc\n",
            "14637  neutral           americanair please bring american airlines blackberry                                                \n",
            "14638  negative          americanair money change flight not answer phone suggestions make commitment                         \n",
            "14639  neutral           americanair ppl need know many seat next flight plz put us standby people next flight                \n",
            "\n",
            "[14640 rows x 2 columns]\n"
          ],
          "name": "stdout"
        }
      ]
    },
    {
      "cell_type": "code",
      "metadata": {
        "colab": {
          "base_uri": "https://localhost:8080/"
        },
        "id": "CCLdKbIG7K6n",
        "outputId": "3490a40e-1b5e-4fee-e31f-a9fde7f2140c"
      },
      "source": [
        "label = tweets_df.loc[:, ['airline_sentiment']]\r\n",
        "label.shape # shape after dropping of irrelevant columns"
      ],
      "execution_count": 53,
      "outputs": [
        {
          "output_type": "execute_result",
          "data": {
            "text/plain": [
              "(14640, 1)"
            ]
          },
          "metadata": {
            "tags": []
          },
          "execution_count": 53
        }
      ]
    },
    {
      "cell_type": "code",
      "metadata": {
        "id": "7j39kV-T7dad"
      },
      "source": [
        "#label = tweets.astype('category')\r\n",
        "#print(label)"
      ],
      "execution_count": 54,
      "outputs": []
    },
    {
      "cell_type": "markdown",
      "metadata": {
        "id": "Zwa6oHJvbbQR"
      },
      "source": [
        "#### Data Pre-processing:\r\n",
        "\r\n",
        "- Html tags removal.\r\n",
        "- Replace contractions in string\r\n",
        "- Remove the numbers.\r\n",
        "- Removal of Special Characters and Punctuations\r\n",
        "- Tokenization\r\n",
        "- Conversion to lowercase\r\n",
        "- Lemmatize or stemming\r\n",
        "- Join the words in the list to convert back to text string in the dataframe. (So that each row contains the data in text format\r\n",
        "- Print first 5 rows of data after pre-processing"
      ]
    },
    {
      "cell_type": "code",
      "metadata": {
        "colab": {
          "base_uri": "https://localhost:8080/",
          "height": 203
        },
        "id": "Dq9ysgMfbW39",
        "outputId": "b4dc308c-10c3-4c40-aa10-2a09812de4ed"
      },
      "source": [
        "# Hmtl tags removal\r\n",
        "\r\n",
        "def strip_html(text):\r\n",
        "    soup = BeautifulSoup(text, \"html.parser\")\r\n",
        "    return soup.get_text()\r\n",
        "\r\n",
        "tweets['text'] = tweets['text'].apply(lambda x: strip_html(x))\r\n",
        "tweets.head()"
      ],
      "execution_count": 55,
      "outputs": [
        {
          "output_type": "execute_result",
          "data": {
            "text/html": [
              "<div>\n",
              "<style scoped>\n",
              "    .dataframe tbody tr th:only-of-type {\n",
              "        vertical-align: middle;\n",
              "    }\n",
              "\n",
              "    .dataframe tbody tr th {\n",
              "        vertical-align: top;\n",
              "    }\n",
              "\n",
              "    .dataframe thead th {\n",
              "        text-align: right;\n",
              "    }\n",
              "</style>\n",
              "<table border=\"1\" class=\"dataframe\">\n",
              "  <thead>\n",
              "    <tr style=\"text-align: right;\">\n",
              "      <th></th>\n",
              "      <th>airline_sentiment</th>\n",
              "      <th>text</th>\n",
              "    </tr>\n",
              "  </thead>\n",
              "  <tbody>\n",
              "    <tr>\n",
              "      <th>0</th>\n",
              "      <td>neutral</td>\n",
              "      <td>@VirginAmerica What @dhepburn said.</td>\n",
              "    </tr>\n",
              "    <tr>\n",
              "      <th>1</th>\n",
              "      <td>positive</td>\n",
              "      <td>@VirginAmerica plus you've added commercials to the experience... tacky.</td>\n",
              "    </tr>\n",
              "    <tr>\n",
              "      <th>2</th>\n",
              "      <td>neutral</td>\n",
              "      <td>@VirginAmerica I didn't today... Must mean I need to take another trip!</td>\n",
              "    </tr>\n",
              "    <tr>\n",
              "      <th>3</th>\n",
              "      <td>negative</td>\n",
              "      <td>@VirginAmerica it's really aggressive to blast obnoxious \"entertainment\" in your guests' faces &amp; they have little recourse</td>\n",
              "    </tr>\n",
              "    <tr>\n",
              "      <th>4</th>\n",
              "      <td>negative</td>\n",
              "      <td>@VirginAmerica and it's a really big bad thing about it</td>\n",
              "    </tr>\n",
              "  </tbody>\n",
              "</table>\n",
              "</div>"
            ],
            "text/plain": [
              "  airline_sentiment                                                                                                                        text\n",
              "0  neutral           @VirginAmerica What @dhepburn said.                                                                                       \n",
              "1  positive          @VirginAmerica plus you've added commercials to the experience... tacky.                                                  \n",
              "2  neutral           @VirginAmerica I didn't today... Must mean I need to take another trip!                                                   \n",
              "3  negative          @VirginAmerica it's really aggressive to blast obnoxious \"entertainment\" in your guests' faces & they have little recourse\n",
              "4  negative          @VirginAmerica and it's a really big bad thing about it                                                                   "
            ]
          },
          "metadata": {
            "tags": []
          },
          "execution_count": 55
        }
      ]
    },
    {
      "cell_type": "code",
      "metadata": {
        "colab": {
          "base_uri": "https://localhost:8080/",
          "height": 203
        },
        "id": "qx6pd4u3bh2s",
        "outputId": "fdc2b8c5-b816-4a79-9a97-e2916a91fed4"
      },
      "source": [
        "# Replace contractions in string\r\n",
        "\r\n",
        "def replace_contractions(text):\r\n",
        "    \"\"\"Replace contractions in string of text\"\"\"\r\n",
        "    return contractions.fix(text)\r\n",
        "\r\n",
        "tweets['text'] = tweets['text'].apply(lambda x: replace_contractions(x))\r\n",
        "tweets.head()"
      ],
      "execution_count": 56,
      "outputs": [
        {
          "output_type": "execute_result",
          "data": {
            "text/html": [
              "<div>\n",
              "<style scoped>\n",
              "    .dataframe tbody tr th:only-of-type {\n",
              "        vertical-align: middle;\n",
              "    }\n",
              "\n",
              "    .dataframe tbody tr th {\n",
              "        vertical-align: top;\n",
              "    }\n",
              "\n",
              "    .dataframe thead th {\n",
              "        text-align: right;\n",
              "    }\n",
              "</style>\n",
              "<table border=\"1\" class=\"dataframe\">\n",
              "  <thead>\n",
              "    <tr style=\"text-align: right;\">\n",
              "      <th></th>\n",
              "      <th>airline_sentiment</th>\n",
              "      <th>text</th>\n",
              "    </tr>\n",
              "  </thead>\n",
              "  <tbody>\n",
              "    <tr>\n",
              "      <th>0</th>\n",
              "      <td>neutral</td>\n",
              "      <td>@VirginAmerica What @dhepburn said.</td>\n",
              "    </tr>\n",
              "    <tr>\n",
              "      <th>1</th>\n",
              "      <td>positive</td>\n",
              "      <td>@VirginAmerica plus you have added commercials to the experience... tacky.</td>\n",
              "    </tr>\n",
              "    <tr>\n",
              "      <th>2</th>\n",
              "      <td>neutral</td>\n",
              "      <td>@VirginAmerica I did not today... Must mean I need to take another trip!</td>\n",
              "    </tr>\n",
              "    <tr>\n",
              "      <th>3</th>\n",
              "      <td>negative</td>\n",
              "      <td>@VirginAmerica it is really aggressive to blast obnoxious \"entertainment\" in your guests' faces &amp; they have little recourse</td>\n",
              "    </tr>\n",
              "    <tr>\n",
              "      <th>4</th>\n",
              "      <td>negative</td>\n",
              "      <td>@VirginAmerica and it is a really big bad thing about it</td>\n",
              "    </tr>\n",
              "  </tbody>\n",
              "</table>\n",
              "</div>"
            ],
            "text/plain": [
              "  airline_sentiment                                                                                                                         text\n",
              "0  neutral           @VirginAmerica What @dhepburn said.                                                                                        \n",
              "1  positive          @VirginAmerica plus you have added commercials to the experience... tacky.                                                 \n",
              "2  neutral           @VirginAmerica I did not today... Must mean I need to take another trip!                                                   \n",
              "3  negative          @VirginAmerica it is really aggressive to blast obnoxious \"entertainment\" in your guests' faces & they have little recourse\n",
              "4  negative          @VirginAmerica and it is a really big bad thing about it                                                                   "
            ]
          },
          "metadata": {
            "tags": []
          },
          "execution_count": 56
        }
      ]
    },
    {
      "cell_type": "code",
      "metadata": {
        "colab": {
          "base_uri": "https://localhost:8080/",
          "height": 203
        },
        "id": "G2Clf5gFblcW",
        "outputId": "1854a349-165d-4b3d-ed65-476ffee08f6d"
      },
      "source": [
        "# Remove the numbers\r\n",
        "\r\n",
        "def remove_numbers(text):\r\n",
        "  text = re.sub(r'\\d+', '', text)\r\n",
        "  return text\r\n",
        "\r\n",
        "tweets['text'] = tweets['text'].apply(lambda x: remove_numbers(x))\r\n",
        "tweets.head()"
      ],
      "execution_count": 57,
      "outputs": [
        {
          "output_type": "execute_result",
          "data": {
            "text/html": [
              "<div>\n",
              "<style scoped>\n",
              "    .dataframe tbody tr th:only-of-type {\n",
              "        vertical-align: middle;\n",
              "    }\n",
              "\n",
              "    .dataframe tbody tr th {\n",
              "        vertical-align: top;\n",
              "    }\n",
              "\n",
              "    .dataframe thead th {\n",
              "        text-align: right;\n",
              "    }\n",
              "</style>\n",
              "<table border=\"1\" class=\"dataframe\">\n",
              "  <thead>\n",
              "    <tr style=\"text-align: right;\">\n",
              "      <th></th>\n",
              "      <th>airline_sentiment</th>\n",
              "      <th>text</th>\n",
              "    </tr>\n",
              "  </thead>\n",
              "  <tbody>\n",
              "    <tr>\n",
              "      <th>0</th>\n",
              "      <td>neutral</td>\n",
              "      <td>@VirginAmerica What @dhepburn said.</td>\n",
              "    </tr>\n",
              "    <tr>\n",
              "      <th>1</th>\n",
              "      <td>positive</td>\n",
              "      <td>@VirginAmerica plus you have added commercials to the experience... tacky.</td>\n",
              "    </tr>\n",
              "    <tr>\n",
              "      <th>2</th>\n",
              "      <td>neutral</td>\n",
              "      <td>@VirginAmerica I did not today... Must mean I need to take another trip!</td>\n",
              "    </tr>\n",
              "    <tr>\n",
              "      <th>3</th>\n",
              "      <td>negative</td>\n",
              "      <td>@VirginAmerica it is really aggressive to blast obnoxious \"entertainment\" in your guests' faces &amp; they have little recourse</td>\n",
              "    </tr>\n",
              "    <tr>\n",
              "      <th>4</th>\n",
              "      <td>negative</td>\n",
              "      <td>@VirginAmerica and it is a really big bad thing about it</td>\n",
              "    </tr>\n",
              "  </tbody>\n",
              "</table>\n",
              "</div>"
            ],
            "text/plain": [
              "  airline_sentiment                                                                                                                         text\n",
              "0  neutral           @VirginAmerica What @dhepburn said.                                                                                        \n",
              "1  positive          @VirginAmerica plus you have added commercials to the experience... tacky.                                                 \n",
              "2  neutral           @VirginAmerica I did not today... Must mean I need to take another trip!                                                   \n",
              "3  negative          @VirginAmerica it is really aggressive to blast obnoxious \"entertainment\" in your guests' faces & they have little recourse\n",
              "4  negative          @VirginAmerica and it is a really big bad thing about it                                                                   "
            ]
          },
          "metadata": {
            "tags": []
          },
          "execution_count": 57
        }
      ]
    },
    {
      "cell_type": "code",
      "metadata": {
        "colab": {
          "base_uri": "https://localhost:8080/",
          "height": 203
        },
        "id": "CiFMsuQ9boj3",
        "outputId": "2aaff647-6b36-4ec8-c2ef-f85a0b725a59"
      },
      "source": [
        "# Tokenize the dataset\r\n",
        "tweets['text'] = tweets.apply(lambda row: nltk.word_tokenize(row['text']), axis=1) \r\n",
        "\r\n",
        "# view the tokenized data\r\n",
        "tweets.head() "
      ],
      "execution_count": 58,
      "outputs": [
        {
          "output_type": "execute_result",
          "data": {
            "text/html": [
              "<div>\n",
              "<style scoped>\n",
              "    .dataframe tbody tr th:only-of-type {\n",
              "        vertical-align: middle;\n",
              "    }\n",
              "\n",
              "    .dataframe tbody tr th {\n",
              "        vertical-align: top;\n",
              "    }\n",
              "\n",
              "    .dataframe thead th {\n",
              "        text-align: right;\n",
              "    }\n",
              "</style>\n",
              "<table border=\"1\" class=\"dataframe\">\n",
              "  <thead>\n",
              "    <tr style=\"text-align: right;\">\n",
              "      <th></th>\n",
              "      <th>airline_sentiment</th>\n",
              "      <th>text</th>\n",
              "    </tr>\n",
              "  </thead>\n",
              "  <tbody>\n",
              "    <tr>\n",
              "      <th>0</th>\n",
              "      <td>neutral</td>\n",
              "      <td>[@, VirginAmerica, What, @, dhepburn, said, .]</td>\n",
              "    </tr>\n",
              "    <tr>\n",
              "      <th>1</th>\n",
              "      <td>positive</td>\n",
              "      <td>[@, VirginAmerica, plus, you, have, added, commercials, to, the, experience, ..., tacky, .]</td>\n",
              "    </tr>\n",
              "    <tr>\n",
              "      <th>2</th>\n",
              "      <td>neutral</td>\n",
              "      <td>[@, VirginAmerica, I, did, not, today, ..., Must, mean, I, need, to, take, another, trip, !]</td>\n",
              "    </tr>\n",
              "    <tr>\n",
              "      <th>3</th>\n",
              "      <td>negative</td>\n",
              "      <td>[@, VirginAmerica, it, is, really, aggressive, to, blast, obnoxious, ``, entertainment, '', in, your, guests, ', faces, &amp;, they, have, little, recourse]</td>\n",
              "    </tr>\n",
              "    <tr>\n",
              "      <th>4</th>\n",
              "      <td>negative</td>\n",
              "      <td>[@, VirginAmerica, and, it, is, a, really, big, bad, thing, about, it]</td>\n",
              "    </tr>\n",
              "  </tbody>\n",
              "</table>\n",
              "</div>"
            ],
            "text/plain": [
              "  airline_sentiment                                                                                                                                                      text\n",
              "0  neutral           [@, VirginAmerica, What, @, dhepburn, said, .]                                                                                                          \n",
              "1  positive          [@, VirginAmerica, plus, you, have, added, commercials, to, the, experience, ..., tacky, .]                                                             \n",
              "2  neutral           [@, VirginAmerica, I, did, not, today, ..., Must, mean, I, need, to, take, another, trip, !]                                                            \n",
              "3  negative          [@, VirginAmerica, it, is, really, aggressive, to, blast, obnoxious, ``, entertainment, '', in, your, guests, ', faces, &, they, have, little, recourse]\n",
              "4  negative          [@, VirginAmerica, and, it, is, a, really, big, bad, thing, about, it]                                                                                  "
            ]
          },
          "metadata": {
            "tags": []
          },
          "execution_count": 58
        }
      ]
    },
    {
      "cell_type": "code",
      "metadata": {
        "id": "lKtfDIcSbr3P"
      },
      "source": [
        "# Create the stopword lists\r\n",
        "\r\n",
        "stopwords = stopwords.words('english')\r\n",
        "\r\n",
        "customlist = ['not', \"couldn't\", 'didn', \"didn't\", 'doesn', \"doesn't\", 'hadn', \"hadn't\", 'hasn',\r\n",
        "        \"hasn't\", 'haven', \"haven't\", 'isn', \"isn't\", 'ma', 'mightn', \"mightn't\", 'mustn',\r\n",
        "        \"mustn't\", 'needn', \"needn't\", 'shan', \"shan't\", 'shouldn', \"shouldn't\", 'wasn',\r\n",
        "        \"wasn't\", 'weren', \"weren't\", 'won', \"won't\", 'wouldn', \"wouldn't\"]\r\n",
        "\r\n",
        "# Set custom stop-word's list as not, couldn't etc. words matter in Sentiment, so not removing them from original data.\r\n",
        "\r\n",
        "stopwords = list(set(stopwords) - set(customlist)) "
      ],
      "execution_count": 59,
      "outputs": []
    },
    {
      "cell_type": "code",
      "metadata": {
        "colab": {
          "base_uri": "https://localhost:8080/",
          "height": 203
        },
        "id": "XMQgNEXcb68r",
        "outputId": "56294066-7179-436e-cbaf-3611669bc44f"
      },
      "source": [
        "lemmatizer = WordNetLemmatizer()\r\n",
        "\r\n",
        "def remove_non_ascii(words):\r\n",
        "    \"\"\"Remove non-ASCII characters from list of tokenized words\"\"\"\r\n",
        "    new_words = []\r\n",
        "    for word in words:\r\n",
        "        new_word = unicodedata.normalize('NFKD', word).encode('ascii', 'ignore').decode('utf-8', 'ignore')\r\n",
        "        new_words.append(new_word)\r\n",
        "    return new_words\r\n",
        "\r\n",
        "def to_lowercase(words):\r\n",
        "    \"\"\"Convert all characters to lowercase from list of tokenized words\"\"\"\r\n",
        "    new_words = []\r\n",
        "    for word in words:\r\n",
        "        new_word = word.lower()\r\n",
        "        new_words.append(new_word)\r\n",
        "    return new_words\r\n",
        "\r\n",
        "def remove_punctuation(words):\r\n",
        "    \"\"\"Remove punctuation from list of tokenized words\"\"\"\r\n",
        "    new_words = []\r\n",
        "    for word in words:\r\n",
        "        new_word = re.sub(r'[^\\w\\s]', '', word)\r\n",
        "        if new_word != '':\r\n",
        "            new_words.append(new_word)\r\n",
        "    return new_words\r\n",
        "\r\n",
        "def remove_stopwords(words):\r\n",
        "    \"\"\"Remove stop words from list of tokenized words\"\"\"\r\n",
        "    new_words = []\r\n",
        "    for word in words:\r\n",
        "        if word not in stopwords:\r\n",
        "            new_words.append(word)\r\n",
        "    return new_words\r\n",
        "\r\n",
        "def lemmatize_list(words):\r\n",
        "    new_words = []\r\n",
        "    for word in words:\r\n",
        "      new_words.append(lemmatizer.lemmatize(word, pos='v'))\r\n",
        "    return new_words\r\n",
        "\r\n",
        "def normalize(words):\r\n",
        "    words = remove_non_ascii(words)\r\n",
        "    words = to_lowercase(words)\r\n",
        "    words = remove_punctuation(words)\r\n",
        "    words = remove_stopwords(words)\r\n",
        "    words = lemmatize_list(words)\r\n",
        "    return ' '.join(words)\r\n",
        "\r\n",
        "tweets['text'] = tweets.apply(lambda row: normalize(row['text']), axis=1)\r\n",
        "\r\n",
        "# Print first 5 rows of data after pre-processing\r\n",
        "tweets.head()"
      ],
      "execution_count": 60,
      "outputs": [
        {
          "output_type": "execute_result",
          "data": {
            "text/html": [
              "<div>\n",
              "<style scoped>\n",
              "    .dataframe tbody tr th:only-of-type {\n",
              "        vertical-align: middle;\n",
              "    }\n",
              "\n",
              "    .dataframe tbody tr th {\n",
              "        vertical-align: top;\n",
              "    }\n",
              "\n",
              "    .dataframe thead th {\n",
              "        text-align: right;\n",
              "    }\n",
              "</style>\n",
              "<table border=\"1\" class=\"dataframe\">\n",
              "  <thead>\n",
              "    <tr style=\"text-align: right;\">\n",
              "      <th></th>\n",
              "      <th>airline_sentiment</th>\n",
              "      <th>text</th>\n",
              "    </tr>\n",
              "  </thead>\n",
              "  <tbody>\n",
              "    <tr>\n",
              "      <th>0</th>\n",
              "      <td>neutral</td>\n",
              "      <td>virginamerica dhepburn say</td>\n",
              "    </tr>\n",
              "    <tr>\n",
              "      <th>1</th>\n",
              "      <td>positive</td>\n",
              "      <td>virginamerica plus add commercials experience tacky</td>\n",
              "    </tr>\n",
              "    <tr>\n",
              "      <th>2</th>\n",
              "      <td>neutral</td>\n",
              "      <td>virginamerica not today must mean need take another trip</td>\n",
              "    </tr>\n",
              "    <tr>\n",
              "      <th>3</th>\n",
              "      <td>negative</td>\n",
              "      <td>virginamerica really aggressive blast obnoxious entertainment guests face little recourse</td>\n",
              "    </tr>\n",
              "    <tr>\n",
              "      <th>4</th>\n",
              "      <td>negative</td>\n",
              "      <td>virginamerica really big bad thing</td>\n",
              "    </tr>\n",
              "  </tbody>\n",
              "</table>\n",
              "</div>"
            ],
            "text/plain": [
              "  airline_sentiment                                                                                       text\n",
              "0  neutral           virginamerica dhepburn say                                                               \n",
              "1  positive          virginamerica plus add commercials experience tacky                                      \n",
              "2  neutral           virginamerica not today must mean need take another trip                                 \n",
              "3  negative          virginamerica really aggressive blast obnoxious entertainment guests face little recourse\n",
              "4  negative          virginamerica really big bad thing                                                       "
            ]
          },
          "metadata": {
            "tags": []
          },
          "execution_count": 60
        }
      ]
    },
    {
      "cell_type": "markdown",
      "metadata": {
        "id": "x8t2PfzocKAJ"
      },
      "source": [
        "#### Vectorization"
      ]
    },
    {
      "cell_type": "code",
      "metadata": {
        "id": "Puydu7LYcDte"
      },
      "source": [
        "# Vectorization (Convert text data to numbers)."
      ],
      "execution_count": 23,
      "outputs": []
    },
    {
      "cell_type": "code",
      "metadata": {
        "colab": {
          "base_uri": "https://localhost:8080/"
        },
        "id": "LgYIHj3icQd8",
        "outputId": "8a28c37e-e554-4951-d0cd-5d6bac605d46"
      },
      "source": [
        "# Use Count Vectorizer to convert text data to numbers and extract features.\r\n",
        "from sklearn.feature_extraction.text import CountVectorizer\r\n",
        "\r\n",
        "# Keep only 1000 features to manage processing time.\r\n",
        "vectorizer_cv = CountVectorizer(max_features=1000)\r\n",
        "tweets_features_cv = vectorizer_cv.fit_transform(tweets['text'])\r\n",
        "\r\n",
        " # Convert the features into array.\r\n",
        "tweets_features_cv = tweets_features_cv.toarray()  \r\n",
        "\r\n",
        "tweets_features_cv.shape"
      ],
      "execution_count": 61,
      "outputs": [
        {
          "output_type": "execute_result",
          "data": {
            "text/plain": [
              "(14640, 1000)"
            ]
          },
          "metadata": {
            "tags": []
          },
          "execution_count": 61
        }
      ]
    },
    {
      "cell_type": "code",
      "metadata": {
        "colab": {
          "base_uri": "https://localhost:8080/"
        },
        "id": "S1GEUpwUcTco",
        "outputId": "6e4b49f1-b416-4e5b-8190-81a0a3a3a755"
      },
      "source": [
        "# Use TfidfVectorizer to convert text data to numbers and extract features.\r\n",
        "\r\n",
        "from sklearn.feature_extraction.text import TfidfVectorizer\r\n",
        "\r\n",
        "# Keep only 1000 features to manage processing time.\r\n",
        "vectorizer_tf = TfidfVectorizer(max_features=1000)\r\n",
        "tweets_features_tf = vectorizer_tf.fit_transform(tweets['text'])\r\n",
        "\r\n",
        " # Convert the features into array.\r\n",
        "tweets_features_tf = tweets_features_tf.toarray()\r\n",
        "\r\n",
        "tweets_features_tf.shape"
      ],
      "execution_count": 62,
      "outputs": [
        {
          "output_type": "execute_result",
          "data": {
            "text/plain": [
              "(14640, 1000)"
            ]
          },
          "metadata": {
            "tags": []
          },
          "execution_count": 62
        }
      ]
    },
    {
      "cell_type": "markdown",
      "metadata": {
        "id": "8_wvywjicZxI"
      },
      "source": [
        "#### Modelling and Evaluation"
      ]
    },
    {
      "cell_type": "markdown",
      "metadata": {
        "id": "sxVGRb_yccgF"
      },
      "source": [
        "###### Fit and Evaluate model using Count Vectorizer"
      ]
    },
    {
      "cell_type": "code",
      "metadata": {
        "id": "ExE_ptQEcWWi"
      },
      "source": [
        "# Split data with the ratio 70:30 into training and testing set\r\n",
        "\r\n",
        "from sklearn.model_selection import train_test_split\r\n",
        "\r\n",
        "X_train, X_test, y_train, y_test = train_test_split(tweets_features_cv, label, test_size=0.3, random_state=42)"
      ],
      "execution_count": 63,
      "outputs": []
    },
    {
      "cell_type": "code",
      "metadata": {
        "colab": {
          "base_uri": "https://localhost:8080/"
        },
        "id": "xu0Y0iMN5-VT",
        "outputId": "5258c128-5ec2-4150-a2ee-47a897e352c6"
      },
      "source": [
        "#print(X_train)\r\n",
        "#print(y_train)\r\n",
        "#print(X_test)\r\n",
        "print(y_test)"
      ],
      "execution_count": 64,
      "outputs": [
        {
          "output_type": "stream",
          "text": [
            "      airline_sentiment\n",
            "4794   positive        \n",
            "10480  negative        \n",
            "8067   negative        \n",
            "8880   neutral         \n",
            "8292   negative        \n",
            "...         ...        \n",
            "12156  positive        \n",
            "6518   neutral         \n",
            "2245   negative        \n",
            "4165   negative        \n",
            "11671  negative        \n",
            "\n",
            "[4392 rows x 1 columns]\n"
          ],
          "name": "stdout"
        }
      ]
    },
    {
      "cell_type": "code",
      "metadata": {
        "id": "vLalVwrGcuoM"
      },
      "source": [
        "# Import necessary libraries\r\n",
        "from sklearn.ensemble import RandomForestClassifier\r\n",
        "from sklearn.model_selection import cross_val_score"
      ],
      "execution_count": 65,
      "outputs": []
    },
    {
      "cell_type": "code",
      "metadata": {
        "id": "r2nzH07y4Ga9"
      },
      "source": [
        "# build a random forest model to classify the sentiments\r\n",
        "rf_cv = RandomForestClassifier(n_estimators=10 ,n_jobs=4)"
      ],
      "execution_count": 66,
      "outputs": []
    },
    {
      "cell_type": "code",
      "metadata": {
        "colab": {
          "base_uri": "https://localhost:8080/"
        },
        "id": "nYalgf09c2aD",
        "outputId": "4d504f75-552b-446f-e3c5-4b881ad395b5"
      },
      "source": [
        "# Fit the model on the training dataset\r\n",
        "rf_cv = rf_cv.fit(X_train, y_train)\r\n",
        "\r\n",
        "print(rf_cv)"
      ],
      "execution_count": 67,
      "outputs": [
        {
          "output_type": "stream",
          "text": [
            "/usr/local/lib/python3.6/dist-packages/ipykernel_launcher.py:2: DataConversionWarning: A column-vector y was passed when a 1d array was expected. Please change the shape of y to (n_samples,), for example using ravel().\n",
            "  \n"
          ],
          "name": "stderr"
        },
        {
          "output_type": "stream",
          "text": [
            "RandomForestClassifier(bootstrap=True, ccp_alpha=0.0, class_weight=None,\n",
            "                       criterion='gini', max_depth=None, max_features='auto',\n",
            "                       max_leaf_nodes=None, max_samples=None,\n",
            "                       min_impurity_decrease=0.0, min_impurity_split=None,\n",
            "                       min_samples_leaf=1, min_samples_split=2,\n",
            "                       min_weight_fraction_leaf=0.0, n_estimators=10, n_jobs=4,\n",
            "                       oob_score=False, random_state=None, verbose=0,\n",
            "                       warm_start=False)\n"
          ],
          "name": "stdout"
        }
      ]
    },
    {
      "cell_type": "code",
      "metadata": {
        "colab": {
          "base_uri": "https://localhost:8080/"
        },
        "id": "8HRenw3b4Qyt",
        "outputId": "c9b2c8ef-f957-4884-b694-d34802ff8204"
      },
      "source": [
        "# Calculate the cross validation score\r\n",
        "print(np.mean(cross_val_score(rf_cv, tweets_features_cv, label, cv=10)))"
      ],
      "execution_count": 68,
      "outputs": [
        {
          "output_type": "stream",
          "text": [
            "/usr/local/lib/python3.6/dist-packages/sklearn/model_selection/_validation.py:515: DataConversionWarning: A column-vector y was passed when a 1d array was expected. Please change the shape of y to (n_samples,), for example using ravel().\n",
            "  estimator.fit(X_train, y_train, **fit_params)\n",
            "/usr/local/lib/python3.6/dist-packages/sklearn/model_selection/_validation.py:515: DataConversionWarning: A column-vector y was passed when a 1d array was expected. Please change the shape of y to (n_samples,), for example using ravel().\n",
            "  estimator.fit(X_train, y_train, **fit_params)\n",
            "/usr/local/lib/python3.6/dist-packages/sklearn/model_selection/_validation.py:515: DataConversionWarning: A column-vector y was passed when a 1d array was expected. Please change the shape of y to (n_samples,), for example using ravel().\n",
            "  estimator.fit(X_train, y_train, **fit_params)\n",
            "/usr/local/lib/python3.6/dist-packages/sklearn/model_selection/_validation.py:515: DataConversionWarning: A column-vector y was passed when a 1d array was expected. Please change the shape of y to (n_samples,), for example using ravel().\n",
            "  estimator.fit(X_train, y_train, **fit_params)\n",
            "/usr/local/lib/python3.6/dist-packages/sklearn/model_selection/_validation.py:515: DataConversionWarning: A column-vector y was passed when a 1d array was expected. Please change the shape of y to (n_samples,), for example using ravel().\n",
            "  estimator.fit(X_train, y_train, **fit_params)\n",
            "/usr/local/lib/python3.6/dist-packages/sklearn/model_selection/_validation.py:515: DataConversionWarning: A column-vector y was passed when a 1d array was expected. Please change the shape of y to (n_samples,), for example using ravel().\n",
            "  estimator.fit(X_train, y_train, **fit_params)\n",
            "/usr/local/lib/python3.6/dist-packages/sklearn/model_selection/_validation.py:515: DataConversionWarning: A column-vector y was passed when a 1d array was expected. Please change the shape of y to (n_samples,), for example using ravel().\n",
            "  estimator.fit(X_train, y_train, **fit_params)\n",
            "/usr/local/lib/python3.6/dist-packages/sklearn/model_selection/_validation.py:515: DataConversionWarning: A column-vector y was passed when a 1d array was expected. Please change the shape of y to (n_samples,), for example using ravel().\n",
            "  estimator.fit(X_train, y_train, **fit_params)\n",
            "/usr/local/lib/python3.6/dist-packages/sklearn/model_selection/_validation.py:515: DataConversionWarning: A column-vector y was passed when a 1d array was expected. Please change the shape of y to (n_samples,), for example using ravel().\n",
            "  estimator.fit(X_train, y_train, **fit_params)\n",
            "/usr/local/lib/python3.6/dist-packages/sklearn/model_selection/_validation.py:515: DataConversionWarning: A column-vector y was passed when a 1d array was expected. Please change the shape of y to (n_samples,), for example using ravel().\n",
            "  estimator.fit(X_train, y_train, **fit_params)\n"
          ],
          "name": "stderr"
        },
        {
          "output_type": "stream",
          "text": [
            "0.7096994535519127\n"
          ],
          "name": "stdout"
        }
      ]
    },
    {
      "cell_type": "code",
      "metadata": {
        "id": "dh-f5xE7c5xn"
      },
      "source": [
        "# Predict the results from the trained model on the test data\r\n",
        "\r\n",
        "y_pred_cv = rf_cv.predict(X_test)"
      ],
      "execution_count": 69,
      "outputs": []
    },
    {
      "cell_type": "code",
      "metadata": {
        "colab": {
          "base_uri": "https://localhost:8080/",
          "height": 498
        },
        "id": "uLWoqA3Je9nv",
        "outputId": "9a4d10d1-a242-4c41-d4cc-abf380732c88"
      },
      "source": [
        "# Plot Confusion matrix for the actual and predicted classes for model built using Count Vectorizer\r\n",
        "import matplotlib.pyplot as plt\r\n",
        "import seaborn as sns\r\n",
        "from sklearn.metrics import confusion_matrix\r\n",
        "\r\n",
        "conf_mat = confusion_matrix(y_test, y_pred_cv)\r\n",
        "\r\n",
        "print(conf_mat)\r\n",
        "\r\n",
        "df_cm = pd.DataFrame(conf_mat, index = [i for i in \"123\"],\r\n",
        "                  columns = [i for i in \"123\"])\r\n",
        "plt.figure(figsize = (10,7))\r\n",
        "sns.heatmap(df_cm, annot=True, fmt='g')"
      ],
      "execution_count": 78,
      "outputs": [
        {
          "output_type": "stream",
          "text": [
            "[[2473  251   90]\n",
            " [ 376  444   64]\n",
            " [ 162  106  426]]\n"
          ],
          "name": "stdout"
        },
        {
          "output_type": "execute_result",
          "data": {
            "text/plain": [
              "<matplotlib.axes._subplots.AxesSubplot at 0x7fadb077beb8>"
            ]
          },
          "metadata": {
            "tags": []
          },
          "execution_count": 78
        },
        {
          "output_type": "display_data",
          "data": {
            "image/png": "[encoded data removed]",
            "text/plain": [
              "<Figure size 720x504 with 2 Axes>"
            ]
          },
          "metadata": {
            "tags": [],
            "needs_background": "light"
          }
        }
      ]
    },
    {
      "cell_type": "markdown",
      "metadata": {
        "id": "7NhTNvE9fE1s"
      },
      "source": [
        "###### Fit and Evaluate model using Tf-Idf Vectorizer"
      ]
    },
    {
      "cell_type": "code",
      "metadata": {
        "id": "nI-zxRn8fCA9"
      },
      "source": [
        "# Split data with the ratio 70:30 into training and testing set\r\n",
        "\r\n",
        "from sklearn.model_selection import train_test_split\r\n",
        "\r\n",
        "X_train, X_test, y_train, y_test = train_test_split(tweets_features_tf, label, test_size=0.3, random_state=42)"
      ],
      "execution_count": 71,
      "outputs": []
    },
    {
      "cell_type": "code",
      "metadata": {
        "colab": {
          "base_uri": "https://localhost:8080/"
        },
        "id": "6qCiHTaBfO3l",
        "outputId": "d2ea9f7b-a9c4-4566-ff49-fb30822afa4b"
      },
      "source": [
        "# build a random forest model to classify the sentiments\r\n",
        "rf_tf = RandomForestClassifier(n_estimators=10, n_jobs=4)\r\n",
        "\r\n",
        "rf_tf = rf_tf.fit(X_train, y_train)\r\n",
        "\r\n",
        "print(rf_tf)\r\n",
        "\r\n",
        "print(np.mean(cross_val_score(rf_tf, tweets_features_tf, label, cv=10)))"
      ],
      "execution_count": 72,
      "outputs": [
        {
          "output_type": "stream",
          "text": [
            "/usr/local/lib/python3.6/dist-packages/ipykernel_launcher.py:4: DataConversionWarning: A column-vector y was passed when a 1d array was expected. Please change the shape of y to (n_samples,), for example using ravel().\n",
            "  after removing the cwd from sys.path.\n"
          ],
          "name": "stderr"
        },
        {
          "output_type": "stream",
          "text": [
            "RandomForestClassifier(bootstrap=True, ccp_alpha=0.0, class_weight=None,\n",
            "                       criterion='gini', max_depth=None, max_features='auto',\n",
            "                       max_leaf_nodes=None, max_samples=None,\n",
            "                       min_impurity_decrease=0.0, min_impurity_split=None,\n",
            "                       min_samples_leaf=1, min_samples_split=2,\n",
            "                       min_weight_fraction_leaf=0.0, n_estimators=10, n_jobs=4,\n",
            "                       oob_score=False, random_state=None, verbose=0,\n",
            "                       warm_start=False)\n"
          ],
          "name": "stdout"
        },
        {
          "output_type": "stream",
          "text": [
            "/usr/local/lib/python3.6/dist-packages/sklearn/model_selection/_validation.py:515: DataConversionWarning: A column-vector y was passed when a 1d array was expected. Please change the shape of y to (n_samples,), for example using ravel().\n",
            "  estimator.fit(X_train, y_train, **fit_params)\n",
            "/usr/local/lib/python3.6/dist-packages/sklearn/model_selection/_validation.py:515: DataConversionWarning: A column-vector y was passed when a 1d array was expected. Please change the shape of y to (n_samples,), for example using ravel().\n",
            "  estimator.fit(X_train, y_train, **fit_params)\n",
            "/usr/local/lib/python3.6/dist-packages/sklearn/model_selection/_validation.py:515: DataConversionWarning: A column-vector y was passed when a 1d array was expected. Please change the shape of y to (n_samples,), for example using ravel().\n",
            "  estimator.fit(X_train, y_train, **fit_params)\n",
            "/usr/local/lib/python3.6/dist-packages/sklearn/model_selection/_validation.py:515: DataConversionWarning: A column-vector y was passed when a 1d array was expected. Please change the shape of y to (n_samples,), for example using ravel().\n",
            "  estimator.fit(X_train, y_train, **fit_params)\n",
            "/usr/local/lib/python3.6/dist-packages/sklearn/model_selection/_validation.py:515: DataConversionWarning: A column-vector y was passed when a 1d array was expected. Please change the shape of y to (n_samples,), for example using ravel().\n",
            "  estimator.fit(X_train, y_train, **fit_params)\n",
            "/usr/local/lib/python3.6/dist-packages/sklearn/model_selection/_validation.py:515: DataConversionWarning: A column-vector y was passed when a 1d array was expected. Please change the shape of y to (n_samples,), for example using ravel().\n",
            "  estimator.fit(X_train, y_train, **fit_params)\n",
            "/usr/local/lib/python3.6/dist-packages/sklearn/model_selection/_validation.py:515: DataConversionWarning: A column-vector y was passed when a 1d array was expected. Please change the shape of y to (n_samples,), for example using ravel().\n",
            "  estimator.fit(X_train, y_train, **fit_params)\n",
            "/usr/local/lib/python3.6/dist-packages/sklearn/model_selection/_validation.py:515: DataConversionWarning: A column-vector y was passed when a 1d array was expected. Please change the shape of y to (n_samples,), for example using ravel().\n",
            "  estimator.fit(X_train, y_train, **fit_params)\n",
            "/usr/local/lib/python3.6/dist-packages/sklearn/model_selection/_validation.py:515: DataConversionWarning: A column-vector y was passed when a 1d array was expected. Please change the shape of y to (n_samples,), for example using ravel().\n",
            "  estimator.fit(X_train, y_train, **fit_params)\n",
            "/usr/local/lib/python3.6/dist-packages/sklearn/model_selection/_validation.py:515: DataConversionWarning: A column-vector y was passed when a 1d array was expected. Please change the shape of y to (n_samples,), for example using ravel().\n",
            "  estimator.fit(X_train, y_train, **fit_params)\n"
          ],
          "name": "stderr"
        },
        {
          "output_type": "stream",
          "text": [
            "0.7128415300546449\n"
          ],
          "name": "stdout"
        }
      ]
    },
    {
      "cell_type": "code",
      "metadata": {
        "id": "EyNUBmWNfQHW"
      },
      "source": [
        "# Predict the results from the trained model on the test data\r\n",
        "y_pred_tf = rf_tf.predict(X_test)"
      ],
      "execution_count": 75,
      "outputs": []
    },
    {
      "cell_type": "code",
      "metadata": {
        "colab": {
          "base_uri": "https://localhost:8080/",
          "height": 445
        },
        "id": "1W-qh84ifUW9",
        "outputId": "12de9e65-d608-4752-d081-598625236537"
      },
      "source": [
        "# Plot Confusion matrix for the actual and predicted classes for model built using Td-Ifd Vectorizer\r\n",
        "import matplotlib.pyplot as plt\r\n",
        "import seaborn as sns\r\n",
        "from sklearn.metrics import confusion_matrix\r\n",
        "\r\n",
        "conf_mat = confusion_matrix(y_test, y_pred_tf)\r\n",
        "\r\n",
        "df_cm = pd.DataFrame(conf_mat, index = [i for i in \"123\"],\r\n",
        "                  columns = [i for i in \"123\"])\r\n",
        "plt.figure(figsize = (10,7))\r\n",
        "sns.heatmap(df_cm, annot=True, fmt='g')"
      ],
      "execution_count": 79,
      "outputs": [
        {
          "output_type": "execute_result",
          "data": {
            "text/plain": [
              "<matplotlib.axes._subplots.AxesSubplot at 0x7fadb79c87f0>"
            ]
          },
          "metadata": {
            "tags": []
          },
          "execution_count": 79
        },
        {
          "output_type": "display_data",
          "data": {
            "image/png": "[encoded data removed]",
            "text/plain": [
              "<Figure size 720x504 with 2 Axes>"
            ]
          },
          "metadata": {
            "tags": [],
            "needs_background": "light"
          }
        }
      ]
    },
    {
      "cell_type": "markdown",
      "metadata": {
        "id": "538YRVzBfMQj"
      },
      "source": [
        "#### Conclusion\r\n",
        " \r\n",
        " - Different pre-processing tools were applied on the 'text' column to make the dataset for the purpose of classifying the sentiments in the tweets as positive, negative and neutral\r\n",
        " - These tools helped to remove html tags from the raw texts, replace contractions like 'haven't' with 'have not', remove numbers, special characters like @ and punctations, converted the text to lower cases, tokenised the texts by breaking sentences into individuals words and also lematize by translating texts into their root words\r\n",
        " - Two types of vectorization were applied to the text column to convert the texts to numbers that can be fed into the model and also extract features from the output which are then converted to arrays for use in the modelling process. The two vectorizers are the Count and Tf-Idf Vectorizers\r\n",
        " - Random forest classifier was used to build the model that was used in the classification\r\n",
        " - Model Fitting and evaluation done using Tf-Idf Vectorizer shows a higher Cross Validation Score than that of Count Vectorizer\r\n",
        " - The model performed good in perspective of how the text classification models perform using the above techniques\r\n",
        " - The accuracy of the model can be improved by increasing the chunk of the dataset used for the model building. Only 1000 max_features were extracted from the data out of the 14640 entries representing less than 10% of dataset.)\r\n",
        " - Using different variations of Pre-processing techniques and model algroithms can also improve the model accuracy."
      ]
    },
    {
      "cell_type": "code",
      "metadata": {
        "id": "Hd6FGqOvfePq"
      },
      "source": [
        ""
      ],
      "execution_count": null,
      "outputs": []
    }
  ]
}